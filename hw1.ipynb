{
 "cells": [
  {
   "cell_type": "code",
   "execution_count": 1,
   "id": "c02cebf1-64ea-4d6e-a1aa-ad76b302b8ee",
   "metadata": {},
   "outputs": [
    {
     "name": "stdin",
     "output_type": "stream",
     "text": [
      " 2\n"
     ]
    },
    {
     "name": "stdout",
     "output_type": "stream",
     "text": [
      "28\n"
     ]
    }
   ],
   "source": [
    "#1.1\n",
    "\n",
    "month_i = int(input())\n",
    "\n",
    "dict_num_of_month={1:31,\n",
    "                  2:28,\n",
    "                  3:31,\n",
    "                  4:30,\n",
    "                  5:31,\n",
    "                  6:30,\n",
    "                  7:31,\n",
    "                  8:31,\n",
    "                  9:30,\n",
    "                  10:31,\n",
    "                  11:30,\n",
    "                  12:31}\n",
    "\n",
    "print(dict_num_of_month[month_i])"
   ]
  },
  {
   "cell_type": "code",
   "execution_count": 12,
   "id": "5804bea1-980f-4c08-97df-77f9bc73f02f",
   "metadata": {},
   "outputs": [
    {
     "name": "stdin",
     "output_type": "stream",
     "text": [
      "enter the year 2004\n",
      "enter the month 2\n"
     ]
    },
    {
     "name": "stdout",
     "output_type": "stream",
     "text": [
      "29\n"
     ]
    }
   ],
   "source": [
    "#1.2\n",
    "year_i = int(input(\"enter the year\"))\n",
    "month_i = int(input(\"enter the month\"))\n",
    "\n",
    "dict_num_of_month={1:31,\n",
    "                  2:28,\n",
    "                  3:31,\n",
    "                  4:30,\n",
    "                  5:31,\n",
    "                  6:30,\n",
    "                  7:31,\n",
    "                  8:31,\n",
    "                  9:30,\n",
    "                  10:31,\n",
    "                  11:30,\n",
    "                  12:31}\n",
    "\n",
    "\n",
    "if (year_i % 4 == 0):\n",
    "    if (year_i % 100 == 0):\n",
    "        if (year_i % 400 == 0):\n",
    "              leap = True\n",
    "        else:\n",
    "              leap = False\n",
    "    else:\n",
    "        leap = True\n",
    "else:\n",
    "    leap = False\n",
    "            \n",
    "if (leap==True):\n",
    "        dict_num_of_month[2]=29\n",
    "        \n",
    "print(dict_num_of_month[month_i])"
   ]
  },
  {
   "cell_type": "code",
   "execution_count": null,
   "id": "3da29246-f5f4-45b0-b432-c6140b21c13a",
   "metadata": {},
   "outputs": [],
   "source": []
  }
 ],
 "metadata": {
  "kernelspec": {
   "display_name": "Python 3 (ipykernel)",
   "language": "python",
   "name": "python3"
  },
  "language_info": {
   "codemirror_mode": {
    "name": "ipython",
    "version": 3
   },
   "file_extension": ".py",
   "mimetype": "text/x-python",
   "name": "python",
   "nbconvert_exporter": "python",
   "pygments_lexer": "ipython3",
   "version": "3.9.7"
  }
 },
 "nbformat": 4,
 "nbformat_minor": 5
}
