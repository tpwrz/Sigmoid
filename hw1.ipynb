{
 "cells": [
  {
   "cell_type": "code",
   "execution_count": 2,
   "id": "c1573a97",
   "metadata": {},
   "outputs": [
    {
     "name": "stdout",
     "output_type": "stream",
     "text": [
      "2\n",
      "28\n"
     ]
    }
   ],
   "source": [
    "#1.1\n",
    "\n",
    "month_i = int(input())\n",
    "\n",
    "dict_num_of_month={1:31,\n",
    "                  2:28,\n",
    "                  3:31,\n",
    "                  4:30,\n",
    "                  5:31,\n",
    "                  6:30,\n",
    "                  7:31,\n",
    "                  8:31,\n",
    "                  9:30,\n",
    "                  10:31,\n",
    "                  11:30,\n",
    "                  12:31}\n",
    "\n",
    "print(dict_num_of_month[month_i])\n"
   ]
  },
  {
   "cell_type": "code",
   "execution_count": 3,
   "id": "21cd6a30",
   "metadata": {},
   "outputs": [
    {
     "name": "stdout",
     "output_type": "stream",
     "text": [
      "enter the year2004\n",
      "enter the month2\n",
      "29\n"
     ]
    }
   ],
   "source": [
    "#1.2\n",
    "year_i = int(input(\"enter the year\"))\n",
    "month_i = int(input(\"enter the month\"))\n",
    "\n",
    "dict_num_of_month={1:31,\n",
    "                  2:28,\n",
    "                  3:31,\n",
    "                  4:30,\n",
    "                  5:31,\n",
    "                  6:30,\n",
    "                  7:31,\n",
    "                  8:31,\n",
    "                  9:30,\n",
    "                  10:31,\n",
    "                  11:30,\n",
    "                  12:31}\n",
    "\n",
    "if(year_i%4 == 0):\n",
    "    if(month_i==2):\n",
    "        dict_num_of_month[2]=29\n",
    "\n",
    "print(dict_num_of_month[month_i])\n"
   ]
  },
  {
   "cell_type": "code",
   "execution_count": null,
   "id": "40c66d0f",
   "metadata": {},
   "outputs": [],
   "source": []
  }
 ],
 "metadata": {
  "kernelspec": {
   "display_name": "Python 3 (ipykernel)",
   "language": "python",
   "name": "python3"
  },
  "language_info": {
   "codemirror_mode": {
    "name": "ipython",
    "version": 3
   },
   "file_extension": ".py",
   "mimetype": "text/x-python",
   "name": "python",
   "nbconvert_exporter": "python",
   "pygments_lexer": "ipython3",
   "version": "3.9.7"
  }
 },
 "nbformat": 4,
 "nbformat_minor": 5
}
