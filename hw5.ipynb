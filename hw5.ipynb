{
 "cells": [
  {
   "cell_type": "code",
   "execution_count": 2,
   "id": "cc0eb951-9e7d-4983-a274-8edb38d8294c",
   "metadata": {},
   "outputs": [],
   "source": [
    " #Important imports\n",
    "import torch\n",
    "from torch import nn as nn\n",
    "from torch.utils.data import DataLoader\n",
    "from torch import optim \n",
    "import matplotlib.pyplot as plt\n",
    "from torch.nn import functional as F\n",
    "from torchvision.datasets import ImageFolder\n",
    "from torchvision import transforms,models\n",
    "import matplotlib.pyplot as plt\n",
    "\n",
    "#Choosing devide to be gpu if have one, else cpu\n",
    "DEVICE = torch.device('cuda' if torch.cuda.is_available() else 'cpu')"
   ]
  },
  {
   "cell_type": "code",
   "execution_count": 3,
   "id": "2f1a5741-f056-4fd3-9dc9-8bc15d6290b9",
   "metadata": {},
   "outputs": [],
   "source": [
    "tr = transforms.Compose([\n",
    "    transforms.Resize((224,224)),\n",
    "    transforms.ToTensor(),\n",
    "    transforms.Normalize(\n",
    "        mean=[0.485, 0.456, 0.406],\n",
    "        std =[0.229, 0.224,0.225]\n",
    "    )\n",
    "])"
   ]
  },
  {
   "cell_type": "code",
   "execution_count": 5,
   "id": "8ea90b81-8121-4212-8c88-3b184da11950",
   "metadata": {},
   "outputs": [],
   "source": [
    "train = ImageFolder(r'D:\\GGIT\\sigmoid hw\\test', transform=tr)\n",
    "test = ImageFolder(r'D:\\GGIT\\sigmoid hw\\train', transform=tr)"
   ]
  },
  {
   "cell_type": "code",
   "execution_count": 6,
   "id": "e776cc33-2a7b-4f80-9538-67665f0460a1",
   "metadata": {},
   "outputs": [],
   "source": [
    "class Net(nn.Module):\n",
    "    \n",
    "    def __init__(self):\n",
    "        super().__init__()\n",
    "        \n",
    "        self.conv1 = nn.Conv2d(3, 32, kernel_size = 3, padding=1)\n",
    "        self.pool1 = nn.MaxPool2d(2)\n",
    "        \n",
    "        self.conv2 = nn.Conv2d(32, 64, kernel_size=3, padding=1)   \n",
    "        self.pool2 = nn.MaxPool2d(2)\n",
    "        \n",
    "        self.conv3= nn.Conv2d(64, 128, kernel_size=3, padding=1)  \n",
    "        self.pool3 = nn.MaxPool2d(2)\n",
    "        \n",
    "        self.flatten = nn.Flatten()\n",
    "        \n",
    "        self.fc1 = nn.Linear(128*28*28, 256)\n",
    "        self.fc2 = nn.Linear(256,128)\n",
    "        self.fc3 = nn.Linear(128,1)\n",
    "        \n",
    "    def forward(self, x):\n",
    "        out = self.pool1(F.relu(self.conv1(x)))\n",
    "        out = self.pool2(F.relu(self.conv2(out)))\n",
    "        out = self.pool3(F.relu(self.conv3(out)))\n",
    "        \n",
    "        out = self.flatten(out)\n",
    "        \n",
    "        out = F.relu(self.fc1(out))\n",
    "        out = F.relu(self.fc2(out))\n",
    "        out = torch.sigmoid(self.fc3(out))\n",
    "        \n",
    "        return out"
   ]
  },
  {
   "cell_type": "code",
   "execution_count": 7,
   "id": "9fb7b7a3-cda9-4c6b-bc30-dc6025fa2c41",
   "metadata": {},
   "outputs": [],
   "source": [
    "def training_loop(n_epoch, optimizer, model,loss_fn, train_loader, test_loader, print_plot):\n",
    "    \n",
    "    train_accuracy = torch.zeros(n_epoch)\n",
    "    test_accuracy = torch.zeros(n_epoch)\n",
    "    \n",
    "    for epoch in range(n_epoch):\n",
    "        \n",
    "        for ex, label in train_loader:\n",
    "            ex = ex.to(DEVICE)\n",
    "            label = label.to(DEVICE)\n",
    "            label = label.unsqueeze(1)\n",
    "            \n",
    "            output = model(ex.float())\n",
    "            \n",
    "            loss  = loss_fn(output, label.float())\n",
    "            \n",
    "            optimizer.zero_grad()\n",
    "            loss.backward()\n",
    "            optimizer.step()\n",
    "            \n",
    "        with torch.no_grad():\n",
    "\n",
    "            for loader, accuracy in [(train_loader, train_accuracy),(test_loader, test_accuracy)]:\n",
    "                correct = 0\n",
    "                total = 0\n",
    "\n",
    "                for examples, labels in loader:\n",
    "                    examples = examples.to(device=DEVICE)\n",
    "                    labels = labels.to(device=DEVICE).view(-1, 1)\n",
    "\n",
    "                    outputs = model(examples.float())\n",
    "                    predicted = torch.round(outputs)\n",
    "\n",
    "                    total += labels.shape[0]\n",
    "                    correct += (predicted == labels).sum()\n",
    "\n",
    "                accuracy[epoch] = correct / total\n",
    "\n",
    "        print(f'Epoch {epoch+1})', \n",
    "          f'Train Accuracy: {train_accuracy[epoch]}',\n",
    "          f'Test Accuracy: {test_accuracy[epoch]}')\n",
    "            \n",
    "    if print_plot:\n",
    "        \n",
    "        #Setting x-ticks\n",
    "        epochs = range(n_epoch)\n",
    "\n",
    "        #Ploting both curves, train and val \n",
    "        plt.plot(epochs, train_accuracy, 'g', label='Training accuracy')\n",
    "        plt.plot(epochs, test_accuracy, 'b', label='Test accuracy')\n",
    "        plt.title('Training and Test loss')\n",
    "        plt.xlabel('Epochs')\n",
    "        plt.ylabel('Loss')\n",
    "        plt.legend()\n",
    "        plt.show() "
   ]
  },
  {
   "cell_type": "code",
   "execution_count": 8,
   "id": "168add0f-24e3-4968-98ff-e4cbea8f60a6",
   "metadata": {},
   "outputs": [],
   "source": [
    "train_loader = DataLoader(train, batch_size=32, shuffle=True) #min size if error\n",
    "test_loader = DataLoader(test, batch_size=32, shuffle=True)"
   ]
  },
  {
   "cell_type": "code",
   "execution_count": 9,
   "id": "5ab041da-2bad-4f4b-8017-a4cd638f36c0",
   "metadata": {},
   "outputs": [
    {
     "name": "stdout",
     "output_type": "stream",
     "text": [
      "Epoch 1) Train Accuracy: 0.6757575869560242 Test Accuracy: 0.6621160507202148\n",
      "Epoch 2) Train Accuracy: 0.831818163394928 Test Accuracy: 0.8050815463066101\n",
      "Epoch 3) Train Accuracy: 0.8378787636756897 Test Accuracy: 0.7830868363380432\n",
      "Epoch 4) Train Accuracy: 0.8166666626930237 Test Accuracy: 0.7724686861038208\n",
      "Epoch 5) Train Accuracy: 0.8681818246841431 Test Accuracy: 0.8054607510566711\n"
     ]
    },
    {
     "data": {
      "image/png": "[encoded data removed]",
      "text/plain": [
       "<Figure size 432x288 with 1 Axes>"
      ]
     },
     "metadata": {
      "needs_background": "light"
     },
     "output_type": "display_data"
    }
   ],
   "source": [
    "lr = 1e-3\n",
    "\n",
    "model=Net().to(DEVICE)\n",
    "\n",
    "optimizer = optim.Adam(model.parameters(), lr=lr)\n",
    "loss_fn = nn.BCELoss()\n",
    "\n",
    "\n",
    "training_loop(\n",
    "    n_epoch =5,\n",
    "    optimizer = optimizer,\n",
    "    model = model,\n",
    "    loss_fn = loss_fn,\n",
    "    print_plot = True, \n",
    "    train_loader = train_loader, \n",
    "    test_loader = test_loader)"
   ]
  },
  {
   "cell_type": "code",
   "execution_count": null,
   "id": "3867e2fc-61f3-41ae-a19b-d7a6a5261285",
   "metadata": {},
   "outputs": [],
   "source": [
    "#pretrained"
   ]
  },
  {
   "cell_type": "code",
   "execution_count": 10,
   "id": "62210808-e433-487e-8527-b8963621fbe2",
   "metadata": {},
   "outputs": [
    {
     "name": "stdout",
     "output_type": "stream",
     "text": [
      "Epoch 1) Train Accuracy: 0.7560606002807617 Test Accuracy: 0.721274197101593\n",
      "Epoch 2) Train Accuracy: 0.7121211886405945 Test Accuracy: 0.7000378966331482\n",
      "Epoch 3) Train Accuracy: 0.8484848737716675 Test Accuracy: 0.8244217038154602\n",
      "Epoch 4) Train Accuracy: 0.846969723701477 Test Accuracy: 0.8240424990653992\n",
      "Epoch 5) Train Accuracy: 0.8348484635353088 Test Accuracy: 0.8232840299606323\n"
     ]
    },
    {
     "data": {
      "image/png": "[encoded data removed]",
      "text/plain": [
       "<Figure size 432x288 with 1 Axes>"
      ]
     },
     "metadata": {
      "needs_background": "light"
     },
     "output_type": "display_data"
    }
   ],
   "source": [
    "from collections import OrderedDict\n",
    "\n",
    "model = models.resnet50(pretrained=True)\n",
    "\n",
    "for param in model.parameters():\n",
    "    param.requires_grad = False\n",
    "    \n",
    "nr_feat =model.fc.in_features #2048\n",
    "model.fc = nn.Sequential(OrderedDict([('fc', nn.Linear(nr_feat,1)), ('sigmoid', nn.Sigmoid())]))\n",
    "\n",
    "\n",
    "#loss_fn = nn.BCEWithLogitsLoss()\n",
    "\n",
    "lr = 1e-3\n",
    "model=model.to(DEVICE)\n",
    "optimizer = optim.Adam(model.parameters(), lr=lr)\n",
    "loss_fn = nn.BCELoss()\n",
    "training_loop(\n",
    "    n_epoch =5,\n",
    "    optimizer = optimizer,\n",
    "    model = model,\n",
    "    loss_fn = loss_fn,\n",
    "    print_plot = True, \n",
    "    train_loader = train_loader, \n",
    "    test_loader = test_loader)"
   ]
  },
  {
   "cell_type": "code",
   "execution_count": null,
   "id": "ad22ff21-e0ca-40a8-b166-688e08fe91d0",
   "metadata": {},
   "outputs": [],
   "source": []
  }
 ],
 "metadata": {
  "kernelspec": {
   "display_name": "Python 3 (ipykernel)",
   "language": "python",
   "name": "python3"
  },
  "language_info": {
   "codemirror_mode": {
    "name": "ipython",
    "version": 3
   },
   "file_extension": ".py",
   "mimetype": "text/x-python",
   "name": "python",
   "nbconvert_exporter": "python",
   "pygments_lexer": "ipython3",
   "version": "3.9.7"
  }
 },
 "nbformat": 4,
 "nbformat_minor": 5
}
