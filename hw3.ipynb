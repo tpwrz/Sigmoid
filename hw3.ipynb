{
 "cells": [
  {
   "cell_type": "code",
   "execution_count": 49,
   "id": "49585ae7-a062-4ad7-b6c5-4b6071c6ef5d",
   "metadata": {},
   "outputs": [],
   "source": [
    "class Book:\n",
    "    id_book=1\n",
    "    title=\"\"\n",
    "    author=\"\"\n",
    "    genre=\"\"\n",
    "    lang=\"\"\n",
    "    pages=\"\"\n",
    "    cost = 2.99\n",
    "    currency=\"GBP\"\n",
    "    availability=\"Available\"\n",
    "    \n",
    "    def __init__(self, id_book, title, author, genre, lang, pages, cost,currency, availability):\n",
    "        self.id_book = id_book\n",
    "        self.title= title\n",
    "        self.author = author\n",
    "        self.genre = genre\n",
    "        self.lang = lang\n",
    "        self.pages = pages\n",
    "        self.cost = cost\n",
    "        self.currency = currency\n",
    "        self.availability= availability\n",
    "        \n",
    "    def print_book(self):\n",
    "        print('id:',self.id_book,\n",
    "              '\\ntitle:',self.title,\n",
    "              '\\nauthor:',self.author, \n",
    "              '\\ngenre:', self.genre, \n",
    "              '\\nlanguage:',self.lang, \n",
    "              '\\npages:',self.pages, \n",
    "              '\\ncost:',self.cost, \n",
    "              '\\ncurrency:',self.currency, \n",
    "              '\\navailabilty:',self.availability)"
   ]
  },
  {
   "cell_type": "code",
   "execution_count": 50,
   "id": "4191393f-45cc-4d1c-bae4-9ed8604200cc",
   "metadata": {},
   "outputs": [],
   "source": [
    "b1 = Book(1,'The dandelion wine', 'Ray Bradbury','Romance', 'English', '352p', 2.99,'GBP', 'Available')\n",
    "b2 = Book(2, 'Pride and Prejudice', 'Jane Austen','Romance', 'English', '368p',2.99, 'GBP', 'Available')\n",
    "b3 = Book(3,\"Will Grayson, Will Grayson\", \"John Green\", \"Fiction\", \"English\", \"200p\", 2.56,'GBP',\"Unavailabile\")\n",
    "b4 = Book(4,\"Fahrenheit 451\",\"RAY BRADBURY\",\"Fiction\", \"English\",\"267p\",4.11,'GBP',\"Availabile\")\n",
    "b5 = Book(5,\"Percy Jackson, vol5\",\"Rick Riordan\",\"Fiction\",\"English\",\"117p\",3.33,'GBP',\"Availabile\")"
   ]
  },
  {
   "cell_type": "code",
   "execution_count": 51,
   "id": "9daf1818-81cd-4986-a4b7-22225bbe5155",
   "metadata": {},
   "outputs": [
    {
     "name": "stdout",
     "output_type": "stream",
     "text": [
      "id: 1 \n",
      "title: The dandelion wine \n",
      "author: Ray Bradbury \n",
      "genre: Romance \n",
      "language: English \n",
      "pages: 352p \n",
      "cost: 2.99 \n",
      "currency: GBP \n",
      "availabilty: Available\n"
     ]
    }
   ],
   "source": [
    "b1.print_book()"
   ]
  },
  {
   "cell_type": "code",
   "execution_count": 53,
   "id": "dfc2cf78",
   "metadata": {},
   "outputs": [],
   "source": [
    "class Library:\n",
    "    idLibrary=1\n",
    "    adress= ''\n",
    "    books = [[Book]]\n",
    "    \n",
    "    def __init__(self, idLibrary, adress, books):\n",
    "        self.idLibrary  =idLibrary\n",
    "        self.adress = adress\n",
    "        self.books = books\n",
    "        \n",
    "    def get_number_books(self):\n",
    "        return len(self.books)\n",
    "    \n",
    "    def add_book(self, b):\n",
    "        return self.books.append(b)\n",
    "    \n",
    "    def add_book_list(self, b):\n",
    "        return self.books.extend(b)\n",
    "    \n",
    "    def delete_book_id(self, num):\n",
    "        return self.books.pop(num)\n",
    "    \n",
    "    def print_books(self):\n",
    "        for b in self.books:\n",
    "            b.print_book()\n",
    "            \n",
    "    def delete_list(self):\n",
    "        return self.books.clear()\n",
    "    \n",
    "    def print_(self):\n",
    "        print(self.idLibrary,  ',adress:', self.adress)\n",
    "        print('Books:')\n",
    "        for b in self.books:\n",
    "               b.print_book()"
   ]
  },
  {
   "cell_type": "code",
   "execution_count": 54,
   "id": "19f92f19",
   "metadata": {},
   "outputs": [],
   "source": [
    "lib1 = Library(1, 'Petru Zadnipru 1', [b1])"
   ]
  },
  {
   "cell_type": "code",
   "execution_count": 55,
   "id": "ee4e4835",
   "metadata": {},
   "outputs": [],
   "source": [
    "lib1.add_book(b2)"
   ]
  },
  {
   "cell_type": "code",
   "execution_count": 56,
   "id": "ae89754d",
   "metadata": {},
   "outputs": [
    {
     "data": {
      "text/plain": [
       "2"
      ]
     },
     "execution_count": 56,
     "metadata": {},
     "output_type": "execute_result"
    }
   ],
   "source": [
    "lib1.get_number_books()"
   ]
  },
  {
   "cell_type": "code",
   "execution_count": 57,
   "id": "fcbb3a64-fcb5-4b2e-b0bb-b1ec78c8819c",
   "metadata": {},
   "outputs": [],
   "source": [
    "book_list = [b3, b4, b5]"
   ]
  },
  {
   "cell_type": "code",
   "execution_count": 58,
   "id": "28e6c8c6-790f-4970-b531-95bb7cc8c1b0",
   "metadata": {},
   "outputs": [],
   "source": [
    "lib1.add_book_list(book_list)"
   ]
  },
  {
   "cell_type": "code",
   "execution_count": 59,
   "id": "1bf1782a-2471-422b-acab-00890f41fa34",
   "metadata": {},
   "outputs": [
    {
     "name": "stdout",
     "output_type": "stream",
     "text": [
      "id: 1 \n",
      "title: The dandelion wine \n",
      "author: Ray Bradbury \n",
      "genre: Romance \n",
      "language: English \n",
      "pages: 352p \n",
      "cost: 2.99 \n",
      "currency: GBP \n",
      "availabilty: Available\n",
      "id: 2 \n",
      "title: Pride and Prejudice \n",
      "author: Jane Austen \n",
      "genre: Romance \n",
      "language: English \n",
      "pages: 368p \n",
      "cost: 2.99 \n",
      "currency: GBP \n",
      "availabilty: Available\n",
      "id: 3 \n",
      "title: Will Grayson, Will Grayson \n",
      "author: John Green \n",
      "genre: Fiction \n",
      "language: English \n",
      "pages: 200p \n",
      "cost: 2.56 \n",
      "currency: GBP \n",
      "availabilty: Unavailabile\n",
      "id: 4 \n",
      "title: Fahrenheit 451 \n",
      "author: RAY BRADBURY \n",
      "genre: Fiction \n",
      "language: English \n",
      "pages: 267p \n",
      "cost: 4.11 \n",
      "currency: GBP \n",
      "availabilty: Availabile\n",
      "id: 5 \n",
      "title: Percy Jackson, vol5 \n",
      "author: Rick Riordan \n",
      "genre: Fiction \n",
      "language: English \n",
      "pages: 117p \n",
      "cost: 3.33 \n",
      "currency: GBP \n",
      "availabilty: Availabile\n"
     ]
    }
   ],
   "source": [
    "lib1.print_books()"
   ]
  },
  {
   "cell_type": "code",
   "execution_count": 60,
   "id": "113b3067-448e-431c-bce7-90657011c794",
   "metadata": {},
   "outputs": [
    {
     "name": "stdout",
     "output_type": "stream",
     "text": [
      "1 ,adress: Petru Zadnipru 1\n",
      "Books:\n",
      "id: 1 \n",
      "title: The dandelion wine \n",
      "author: Ray Bradbury \n",
      "genre: Romance \n",
      "language: English \n",
      "pages: 352p \n",
      "cost: 2.99 \n",
      "currency: GBP \n",
      "availabilty: Available\n",
      "id: 2 \n",
      "title: Pride and Prejudice \n",
      "author: Jane Austen \n",
      "genre: Romance \n",
      "language: English \n",
      "pages: 368p \n",
      "cost: 2.99 \n",
      "currency: GBP \n",
      "availabilty: Available\n",
      "id: 3 \n",
      "title: Will Grayson, Will Grayson \n",
      "author: John Green \n",
      "genre: Fiction \n",
      "language: English \n",
      "pages: 200p \n",
      "cost: 2.56 \n",
      "currency: GBP \n",
      "availabilty: Unavailabile\n",
      "id: 4 \n",
      "title: Fahrenheit 451 \n",
      "author: RAY BRADBURY \n",
      "genre: Fiction \n",
      "language: English \n",
      "pages: 267p \n",
      "cost: 4.11 \n",
      "currency: GBP \n",
      "availabilty: Availabile\n",
      "id: 5 \n",
      "title: Percy Jackson, vol5 \n",
      "author: Rick Riordan \n",
      "genre: Fiction \n",
      "language: English \n",
      "pages: 117p \n",
      "cost: 3.33 \n",
      "currency: GBP \n",
      "availabilty: Availabile\n"
     ]
    }
   ],
   "source": [
    "lib1.print_()"
   ]
  },
  {
   "cell_type": "code",
   "execution_count": 44,
   "id": "6dbcf04f-8066-4927-8c56-901f0239a332",
   "metadata": {},
   "outputs": [],
   "source": [
    "class Local_library(Library):\n",
    "    loc = ''\n",
    "    num_floors = 1\n",
    "    name_lib = ''\n",
    "    num_visit = 100 #количество посещений\n",
    "    \n",
    "    def __init__(self, idLibrary, adress, books, loc, num_floors, name_lib, num_visit):\n",
    "        super().__init__(idLibrary, adress, books)\n",
    "    \n",
    "        self.loc = loc\n",
    "        self.num_floors = num_floors\n",
    "        self.name_lib = name_lib\n",
    "        self.num_visit = num_visit\n",
    "    \n",
    "    def update_visit(self, n):\n",
    "        self.num_visit = n\n",
    "        return self.num_visit\n",
    "    \n",
    "    def print_(self):\n",
    "        print(self.idLibrary, ',adress:', self.adress)\n",
    "        print('Books:')\n",
    "        for b in self.books:\n",
    "            b.print_book()\n",
    "        print('Another info:')\n",
    "        print('area:',self.loc, \n",
    "              '\\nnumber of floors:',self.num_floors, \n",
    "              '\\nname of library:',self.name_lib, \n",
    "              '\\nnumber of visits:',self.num_visit)"
   ]
  },
  {
   "cell_type": "code",
   "execution_count": 45,
   "id": "755d0ca6-2af6-46ab-9b46-6a7646c4c363",
   "metadata": {},
   "outputs": [
    {
     "name": "stdout",
     "output_type": "stream",
     "text": [
      "1 adress:  Petru Zadnipru 1\n",
      "Books:\n",
      "1 The dandelion wine Ray Bradbury Romance English 352p 2.99 GBP Available\n",
      "Another info:\n",
      "area: Chisinau , number of floors: 2 , name of library: Librarius , number of visits: 200\n"
     ]
    }
   ],
   "source": [
    "lib1 = Local_library(1, 'Petru Zadnipru 1', [b1],'Chisinau', 2, 'Librarius', 200)\n",
    "\n",
    "lib1.print_()"
   ]
  },
  {
   "cell_type": "code",
   "execution_count": 64,
   "id": "27c3ea77-6316-4b0c-a229-c9ab600d50de",
   "metadata": {},
   "outputs": [],
   "source": [
    "class School_library(Library):\n",
    "    loc=''\n",
    "    name_school=''\n",
    "    lib_floor_on = 3\n",
    "    num_visit = 50 #количество посещений\n",
    "    num_textbook = 120 #количество учебников\n",
    "    \n",
    "    def __init__(self,idLibrary, adress, books, loc, name_school, lib_floor_on, num_visit, num_textbook):\n",
    "        super().__init__(idLibrary, adress, books)\n",
    "        \n",
    "        self.loc = loc\n",
    "        self.name_school = name_school\n",
    "        self.lib_floor_on = lib_floor_on\n",
    "        self.num_visit = num_visit\n",
    "        self.num_textbook = num_textbook\n",
    "        \n",
    "    def update_visit(self, n):\n",
    "        self.num_visit = n\n",
    "        return self.num_visit\n",
    "    \n",
    "    def update_textbook(self, n):\n",
    "        self.update_textbook = n\n",
    "        return self.update_textbook\n",
    "    \n",
    "        def print_(self):\n",
    "            print(self.idLibrary, ',adress:', self.adress)\n",
    "            print('Books:')\n",
    "            for b in self.books:\n",
    "                b.print_book()\n",
    "            print('Another info:')\n",
    "            print('area:',self.loc, \n",
    "                  '\\nschool name:',self.name_school, \n",
    "                  '\\nfloor the lib is on:',self.lib_floor_on, \n",
    "                  '\\nnumber of visits:',self.num_visit, \n",
    "                  '\\nnumber of textbooks:',self.num_textbook)"
   ]
  },
  {
   "cell_type": "code",
   "execution_count": 66,
   "id": "fb9813d8-3bf0-413a-b095-88ef5bd0cdd5",
   "metadata": {},
   "outputs": [
    {
     "name": "stdout",
     "output_type": "stream",
     "text": [
      "1 ,adress: Petru Zadnipru 1\n",
      "Books:\n",
      "id: 1 \n",
      "title: The dandelion wine \n",
      "author: Ray Bradbury \n",
      "genre: Romance \n",
      "language: English \n",
      "pages: 352p \n",
      "cost: 2.99 \n",
      "currency: GBP \n",
      "availabilty: Available\n",
      "id: 3 \n",
      "title: Will Grayson, Will Grayson \n",
      "author: John Green \n",
      "genre: Fiction \n",
      "language: English \n",
      "pages: 200p \n",
      "cost: 2.56 \n",
      "currency: GBP \n",
      "availabilty: Unavailabile\n",
      "id: 4 \n",
      "title: Fahrenheit 451 \n",
      "author: RAY BRADBURY \n",
      "genre: Fiction \n",
      "language: English \n",
      "pages: 267p \n",
      "cost: 4.11 \n",
      "currency: GBP \n",
      "availabilty: Availabile\n"
     ]
    }
   ],
   "source": [
    "lib2 = School_library(1, 'Petru Zadnipru 1', [b1,b3,b4], 'Chisinau', 'Olimp', 2, 70, 200)\n",
    "\n",
    "lib2.print_()"
   ]
  },
  {
   "cell_type": "code",
   "execution_count": 67,
   "id": "48d900e9-5d5e-4c10-8430-2f761481af3d",
   "metadata": {},
   "outputs": [
    {
     "data": {
      "text/plain": [
       "200"
      ]
     },
     "execution_count": 67,
     "metadata": {},
     "output_type": "execute_result"
    }
   ],
   "source": [
    "lib2.num_textbook"
   ]
  },
  {
   "cell_type": "code",
   "execution_count": null,
   "id": "e1c57c25-511f-4278-a8fb-b6472376d353",
   "metadata": {},
   "outputs": [],
   "source": []
  }
 ],
 "metadata": {
  "kernelspec": {
   "display_name": "Python 3 (ipykernel)",
   "language": "python",
   "name": "python3"
  },
  "language_info": {
   "codemirror_mode": {
    "name": "ipython",
    "version": 3
   },
   "file_extension": ".py",
   "mimetype": "text/x-python",
   "name": "python",
   "nbconvert_exporter": "python",
   "pygments_lexer": "ipython3",
   "version": "3.9.7"
  }
 },
 "nbformat": 4,
 "nbformat_minor": 5
}
